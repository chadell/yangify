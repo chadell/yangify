{
 "cells": [
  {
   "cell_type": "markdown",
   "metadata": {},
   "source": [
    "# Introduction\n",
    "\n",
    "Yangify is a framework that allows you to easily write code that can map structured and non-structured data into data modelled using YANG models. Yangify can also do the opposite operation and convert data modelled with YANG models into other structured or non-structured data. This allows you to easily write code that can parse native output/data/configuration from network devices and map them into YANG models and vice-versa.\n",
    "\n",
    "In addition, it can provide the necessary commands to go merge and replace a running configuration using a candidate object. This can prove useful to do smart replace/merge operations in systems that otherwise might not be able to do so. \n",
    "\n",
    "Note that Yangify doesn't provide the code to do that, Yangify only provides the framework. However, it provides a few reference implementations for documentation, demostrational and testing purposes.\n",
    "\n",
    "For an actual implementation of Parsers/Translators using Yangify you can refer to [ntc-rosetta](https://github.com/networktocode/ntc-rosetta).\n",
    "\n",
    "## The Datamodel\n",
    "\n",
    "Before we even start we need a datamodel. Yangify uses under the hoods [yangson](https://yangson.labs.nic.cz/). Yangson uses [RFC 7895](https://datatracker.ietf.org/doc/rfc7895/) to define the models to use so we are going to need a file describing our library and a list of paths where to find the modules being implemented/imported by the library:"
   ]
  },
  {
   "cell_type": "code",
   "execution_count": 1,
   "metadata": {},
   "outputs": [],
   "source": [
    "from yangson.datamodel import DataModel\n",
    "dm = DataModel.from_file(\"yang/yang-library-data.json\", [\"yang/yang-modules/ietf\", \"yang/yang-modules/openconfig\"])"
   ]
  },
  {
   "cell_type": "markdown",
   "metadata": {},
   "source": [
    "The datamodel can be reused across many parsers and translators.\n",
    "\n",
    "## Parsing\n",
    "\n",
    "You will see more details about this if you go to the tutorial but this is an example of how you could use a `Parser` written with Yangify to parse IOS configuration:"
   ]
  },
  {
   "cell_type": "code",
   "execution_count": 2,
   "metadata": {},
   "outputs": [],
   "source": [
    "import tutorial_parser\n",
    "\n",
    "from yangify import parser\n",
    "from yangify.parser.text_tree import parse_indented_config\n",
    "\n",
    "class IOSParser(parser.RootParser):\n",
    "    class Yangify(parser.ParserData):\n",
    "        def init(self) -> None:\n",
    "            self.root_native = parse_indented_config(self.native.splitlines())\n",
    "            self.native = self.root_native\n",
    "\n",
    "    interfaces = tutorial_parser.Interfaces\n",
    "    vlans = tutorial_parser.Vlans\n",
    "\n",
    "with open(\"data/ios/config.txt\", \"r\") as f:\n",
    "    config = f.read()"
   ]
  },
  {
   "cell_type": "code",
   "execution_count": 3,
   "metadata": {},
   "outputs": [
    {
     "name": "stdout",
     "output_type": "stream",
     "text": [
      "interface FastEthernet1\r\n",
      "   description This is Fa1\r\n",
      "   shutdown\r\n",
      "   exit\r\n",
      "!\r\n",
      "interface FastEthernet1.1\r\n",
      "   description This is Fa1.1\r\n",
      "   exit\r\n",
      "!\r\n",
      "interface FastEthernet1.2\r\n",
      "   description This is Fa1.2\r\n",
      "   exit\r\n",
      "!\r\n",
      "interface FastEthernet3\r\n",
      "   description This is Fa3\r\n",
      "   no shutdown\r\n",
      "   exit\r\n",
      "!\r\n",
      "interface FastEthernet4\r\n",
      "   shutdown\r\n",
      "   exit\r\n",
      "!\r\n",
      "vlan 10\r\n",
      "   name prod\r\n",
      "   no shutdown\r\n",
      "   exit\r\n",
      "!\r\n",
      "vlan 20\r\n",
      "   name dev\r\n",
      "   shutdown\r\n",
      "   exit\r\n",
      "!\r\n"
     ]
    }
   ],
   "source": [
    "%cat data/ios/config.txt"
   ]
  },
  {
   "cell_type": "code",
   "execution_count": 4,
   "metadata": {},
   "outputs": [
    {
     "name": "stdout",
     "output_type": "stream",
     "text": [
      "{\n",
      "    \"openconfig-interfaces:interfaces\": {\n",
      "        \"interface\": [\n",
      "            {\n",
      "                \"name\": \"FastEthernet1\",\n",
      "                \"config\": {\n",
      "                    \"name\": \"FastEthernet1\",\n",
      "                    \"type\": \"iana-if-type:ethernetCsmacd\",\n",
      "                    \"description\": \"This is Fa1\",\n",
      "                    \"enabled\": false\n",
      "                },\n",
      "                \"subinterfaces\": {\n",
      "                    \"subinterface\": [\n",
      "                        {\n",
      "                            \"index\": 1,\n",
      "                            \"config\": {\n",
      "                                \"index\": 1,\n",
      "                                \"description\": \"This is Fa1.1\"\n",
      "                            }\n",
      "                        },\n",
      "                        {\n",
      "                            \"index\": 2,\n",
      "                            \"config\": {\n",
      "                                \"index\": 2,\n",
      "                                \"description\": \"This is Fa1.2\"\n",
      "                            }\n",
      "                        }\n",
      "                    ]\n",
      "                }\n",
      "            },\n",
      "            {\n",
      "                \"name\": \"FastEthernet3\",\n",
      "                \"config\": {\n",
      "                    \"name\": \"FastEthernet3\",\n",
      "                    \"type\": \"iana-if-type:ethernetCsmacd\",\n",
      "                    \"description\": \"This is Fa3\",\n",
      "                    \"enabled\": true\n",
      "                }\n",
      "            },\n",
      "            {\n",
      "                \"name\": \"FastEthernet4\",\n",
      "                \"config\": {\n",
      "                    \"name\": \"FastEthernet4\",\n",
      "                    \"type\": \"iana-if-type:ethernetCsmacd\",\n",
      "                    \"enabled\": false\n",
      "                }\n",
      "            }\n",
      "        ]\n",
      "    },\n",
      "    \"openconfig-vlan:vlans\": {\n",
      "        \"vlan\": [\n",
      "            {\n",
      "                \"vlan-id\": 10,\n",
      "                \"config\": {\n",
      "                    \"vlan-id\": 10,\n",
      "                    \"name\": \"prod\",\n",
      "                    \"status\": \"ACTIVE\"\n",
      "                }\n",
      "            },\n",
      "            {\n",
      "                \"vlan-id\": 20,\n",
      "                \"config\": {\n",
      "                    \"vlan-id\": 20,\n",
      "                    \"name\": \"dev\",\n",
      "                    \"status\": \"SUSPENDED\"\n",
      "                }\n",
      "            }\n",
      "        ]\n",
      "    }\n",
      "}\n"
     ]
    }
   ],
   "source": [
    "p = IOSParser(dm, native=config)\n",
    "result = p.process()\n",
    "import json\n",
    "print(json.dumps(result.raw_value(), indent=4))"
   ]
  },
  {
   "cell_type": "markdown",
   "metadata": {},
   "source": [
    "## Translating\n",
    "\n",
    "You will see more details about this if you go to the tutorial but this is an example of how you could use a `Translator` written with Yangify to translate models into IOS configuration:"
   ]
  },
  {
   "cell_type": "code",
   "execution_count": 5,
   "metadata": {},
   "outputs": [],
   "source": [
    "import tutorial_translator\n",
    "\n",
    "from yangify import translator\n",
    "from yangify.translator.config_tree import ConfigTree\n",
    "\n",
    "\n",
    "class IOSTranslator(translator.RootTranslator):\n",
    "    class Yangify(translator.TranslatorData):\n",
    "        def init(self) -> None:\n",
    "            self.root_result = ConfigTree()\n",
    "            self.result = self.root_result\n",
    "\n",
    "        def post(self) -> None:\n",
    "            self.root_result = self.root_result.to_string()\n",
    "\n",
    "    interfaces = tutorial_translator.Interfaces\n",
    "    vlans = tutorial_translator.Vlans"
   ]
  },
  {
   "cell_type": "code",
   "execution_count": 6,
   "metadata": {},
   "outputs": [
    {
     "name": "stdout",
     "output_type": "stream",
     "text": [
      "{\r\n",
      "  \"openconfig-interfaces:interfaces\": {\r\n",
      "    \"interface\": [\r\n",
      "      {\r\n",
      "        \"name\": \"FastEthernet1\",\r\n",
      "        \"config\": {\r\n",
      "          \"name\": \"FastEthernet1\",\r\n",
      "          \"type\": \"iana-if-type:ethernetCsmacd\",\r\n",
      "          \"description\": \"This is Fa1\",\r\n",
      "          \"enabled\": false\r\n",
      "        },\r\n",
      "        \"subinterfaces\": {\r\n",
      "          \"subinterface\": [\r\n",
      "            {\r\n",
      "              \"index\": 1,\r\n",
      "              \"config\": {\r\n",
      "                \"index\": 1,\r\n",
      "                \"description\": \"This is Fa1.1\"\r\n",
      "              }\r\n",
      "            },\r\n",
      "            {\r\n",
      "              \"index\": 2,\r\n",
      "              \"config\": {\r\n",
      "                \"index\": 2,\r\n",
      "                \"description\": \"This is Fa1.2\"\r\n",
      "              }\r\n",
      "            }\r\n",
      "          ]\r\n",
      "        }\r\n",
      "      },\r\n",
      "      {\r\n",
      "        \"name\": \"FastEthernet3\",\r\n",
      "        \"config\": {\r\n",
      "          \"name\": \"FastEthernet3\",\r\n",
      "          \"type\": \"iana-if-type:ethernetCsmacd\",\r\n",
      "          \"description\": \"This is Fa3\",\r\n",
      "          \"enabled\": true\r\n",
      "        }\r\n",
      "      },\r\n",
      "      {\r\n",
      "        \"name\": \"FastEthernet4\",\r\n",
      "        \"config\": {\r\n",
      "          \"name\": \"FastEthernet4\",\r\n",
      "          \"type\": \"iana-if-type:ethernetCsmacd\",\r\n",
      "          \"enabled\": false\r\n",
      "        }\r\n",
      "      }\r\n",
      "    ]\r\n",
      "  },\r\n",
      "  \"openconfig-vlan:vlans\": {\r\n",
      "    \"vlan\": [\r\n",
      "      {\r\n",
      "        \"vlan-id\": 10,\r\n",
      "        \"config\": {\r\n",
      "          \"vlan-id\": 10,\r\n",
      "          \"name\": \"prod\",\r\n",
      "          \"status\": \"ACTIVE\"\r\n",
      "        }\r\n",
      "      },\r\n",
      "      {\r\n",
      "        \"vlan-id\": 20,\r\n",
      "        \"config\": {\r\n",
      "          \"vlan-id\": 20,\r\n",
      "          \"name\": \"dev\",\r\n",
      "          \"status\": \"SUSPENDED\"\r\n",
      "        }\r\n",
      "      }\r\n",
      "    ]\r\n",
      "  }\r\n",
      "}\r\n"
     ]
    }
   ],
   "source": [
    "%cat data/ios/data.json"
   ]
  },
  {
   "cell_type": "code",
   "execution_count": 7,
   "metadata": {},
   "outputs": [],
   "source": [
    "import json\n",
    "with open(\"data/ios/data.json\", \"r\") as f:\n",
    "    data = json.load(f)"
   ]
  },
  {
   "cell_type": "code",
   "execution_count": 8,
   "metadata": {},
   "outputs": [
    {
     "name": "stdout",
     "output_type": "stream",
     "text": [
      "interface FastEthernet1\n",
      "   description This is Fa1\n",
      "   shutdown\n",
      "   exit\n",
      "!\n",
      "interface FastEthernet1.1\n",
      "   description This is Fa1.1\n",
      "   exit\n",
      "!\n",
      "interface FastEthernet1.2\n",
      "   description This is Fa1.2\n",
      "   exit\n",
      "!\n",
      "interface FastEthernet3\n",
      "   description This is Fa3\n",
      "   no shutdown\n",
      "   exit\n",
      "!\n",
      "interface FastEthernet4\n",
      "   shutdown\n",
      "   exit\n",
      "!\n",
      "vlan 10\n",
      "   name prod\n",
      "   no shutdown\n",
      "   exit\n",
      "!\n",
      "vlan 20\n",
      "   name dev\n",
      "   shutdown\n",
      "   exit\n",
      "!\n",
      "\n"
     ]
    }
   ],
   "source": [
    "p = IOSTranslator(dm, candidate=data)\n",
    "print(p.process())"
   ]
  }
 ],
 "metadata": {
  "kernelspec": {
   "display_name": "Python 3",
   "language": "python",
   "name": "python3"
  },
  "language_info": {
   "codemirror_mode": {
    "name": "ipython",
    "version": 3
   },
   "file_extension": ".py",
   "mimetype": "text/x-python",
   "name": "python",
   "nbconvert_exporter": "python",
   "pygments_lexer": "ipython3",
   "version": "3.6.8"
  }
 },
 "nbformat": 4,
 "nbformat_minor": 2
}
